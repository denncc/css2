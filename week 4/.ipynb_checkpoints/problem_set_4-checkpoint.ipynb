{
 "cells": [
  {
   "cell_type": "code",
   "execution_count": 1,
   "metadata": {},
   "outputs": [],
   "source": [
    "import pandas as pd\n",
    "from bs4 import BeautifulSoup\n",
    "import requests"
   ]
  },
  {
   "cell_type": "code",
   "execution_count": 2,
   "metadata": {},
   "outputs": [],
   "source": [
    "def city_weather(zipcode):\n",
    "    \"\"\"\n",
    "    :zipcode: it should be the city's zipcode where you want to know the name, state, the weather about\n",
    "    :return: print the name of the city, the state of the city, the weather in Fahrenheit, and the zipcode\n",
    "    \"\"\"\n",
    "    # pass the zipcode to the url\n",
    "    url = f\"https://weather.com/weather/today/l/{zipcode}:4:US\"\n",
    "    # use requests library to get the response from the website\n",
    "    response = requests.get(url)\n",
    "    # determine the status of the website\n",
    "    if not str(zipcode).isnumeric():\n",
    "        # if the input is not a zipcode with correct format, print this\n",
    "        print(\"Please input a zipcode with correct format\")\n",
    "    elif response.status_code == 200:\n",
    "        # if the webscraping is successful, get the following text\n",
    "        soup = BeautifulSoup(response.content,'html.parser').find_all(class_ = 'card')\n",
    "        \n",
    "        # This soup is the name of the city, and it's in the second div node of the first div node\n",
    "        print(soup[0].get(\"aria-label\"), soup[0].div.find_all(\"div\")[1].text)\n",
    "        # This soup is the status of the city, and it's in the div within the fourth div node of the first div node\n",
    "        print(\"The status is\", soup[0].div.find_all(\"div\")[3].div.text)\n",
    "        # This soup is the temperature of the city, and it's in the span within the fourth div node of the first div node\n",
    "        print(\"The temperature in Fahrenheit is\", soup[0].div.find_all(\"div\")[3].span.text)\n",
    "        print(\"The zipcode is\", zipcode)\n",
    "    elif response.status_code == 404:\n",
    "        # if the response code is 404, in other words the zipcode is not found\n",
    "        print(\"The zipcode is incorrect\")\n",
    "    print(\"\\n\")\n",
    "    return"
   ]
  },
  {
   "cell_type": "code",
   "execution_count": 3,
   "metadata": {
    "scrolled": false
   },
   "outputs": [
    {
     "name": "stdout",
     "output_type": "stream",
     "text": [
      "The input zip code is 92122 and below is the output:\n",
      "Current Conditions for San Diego, CA Weather As of 5:37 pm PDT\n",
      "The status is Fair\n",
      "The temperature in Fahrenheit is 60°\n",
      "The zipcode is 92122\n",
      "\n",
      "\n",
      "The input zip code is '92122' and below is the output:\n",
      "Current Conditions for San Diego, CA Weather As of 5:37 pm PDT\n",
      "The status is Fair\n",
      "The temperature in Fahrenheit is 60°\n",
      "The zipcode is 92122\n",
      "\n",
      "\n",
      "The input zip code is 9212 and below is the output:\n",
      "The zipcode is incorrect\n",
      "\n",
      "\n",
      "The input zip code is 99999 and below is the output:\n",
      "The zipcode is incorrect\n",
      "\n",
      "\n",
      "The input zip code is 92328 and below is the output:\n",
      "Current Conditions for Death Valley, CA Weather As of 5:31 pm PDT\n",
      "The status is Mostly Cloudy/Wind\n",
      "The temperature in Fahrenheit is 83°\n",
      "The zipcode is 92328\n",
      "\n",
      "\n",
      "The input zip code is 'Hello, is this weather.com?' and below is the output:\n",
      "Please input a zipcode with correct format\n",
      "\n",
      "\n"
     ]
    }
   ],
   "source": [
    "for zipcode in [92122, str(92122), 9212, 99999, 92328, 'Hello, is this weather.com?']:\n",
    "    print(f\"The input zip code is {repr(zipcode)}\", \"and below is the output:\")\n",
    "    city_weather(zipcode)"
   ]
  }
 ],
 "metadata": {
  "kernelspec": {
   "display_name": "Python 3",
   "language": "python",
   "name": "python3"
  },
  "language_info": {
   "codemirror_mode": {
    "name": "ipython",
    "version": 3
   },
   "file_extension": ".py",
   "mimetype": "text/x-python",
   "name": "python",
   "nbconvert_exporter": "python",
   "pygments_lexer": "ipython3",
   "version": "3.7.4"
  }
 },
 "nbformat": 4,
 "nbformat_minor": 4
}
