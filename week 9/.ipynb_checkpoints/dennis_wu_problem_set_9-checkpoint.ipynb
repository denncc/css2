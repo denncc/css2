{
 "cells": [
  {
   "cell_type": "markdown",
   "metadata": {
    "id": "YpWASQeCuOnn"
   },
   "source": [
    "## Block 1"
   ]
  },
  {
   "cell_type": "code",
   "execution_count": 1,
   "metadata": {
    "id": "qhnmM-rVuIp8"
   },
   "outputs": [
    {
     "name": "stderr",
     "output_type": "stream",
     "text": [
      "c:\\users\\lenovo\\appdata\\local\\programs\\python\\python37\\lib\\site-packages\\sklearn\\linear_model\\least_angle.py:35: DeprecationWarning: `np.float` is a deprecated alias for the builtin `float`. To silence this warning, use `float` by itself. Doing this will not modify any behavior and is safe. If you specifically wanted the numpy scalar type, use `np.float64` here.\n",
      "Deprecated in NumPy 1.20; for more details and guidance: https://numpy.org/devdocs/release/1.20.0-notes.html#deprecations\n",
      "  eps=np.finfo(np.float).eps,\n",
      "c:\\users\\lenovo\\appdata\\local\\programs\\python\\python37\\lib\\site-packages\\sklearn\\linear_model\\least_angle.py:597: DeprecationWarning: `np.float` is a deprecated alias for the builtin `float`. To silence this warning, use `float` by itself. Doing this will not modify any behavior and is safe. If you specifically wanted the numpy scalar type, use `np.float64` here.\n",
      "Deprecated in NumPy 1.20; for more details and guidance: https://numpy.org/devdocs/release/1.20.0-notes.html#deprecations\n",
      "  eps=np.finfo(np.float).eps, copy_X=True, fit_path=True,\n",
      "c:\\users\\lenovo\\appdata\\local\\programs\\python\\python37\\lib\\site-packages\\sklearn\\linear_model\\least_angle.py:836: DeprecationWarning: `np.float` is a deprecated alias for the builtin `float`. To silence this warning, use `float` by itself. Doing this will not modify any behavior and is safe. If you specifically wanted the numpy scalar type, use `np.float64` here.\n",
      "Deprecated in NumPy 1.20; for more details and guidance: https://numpy.org/devdocs/release/1.20.0-notes.html#deprecations\n",
      "  eps=np.finfo(np.float).eps, copy_X=True, fit_path=True,\n",
      "c:\\users\\lenovo\\appdata\\local\\programs\\python\\python37\\lib\\site-packages\\sklearn\\linear_model\\least_angle.py:862: DeprecationWarning: `np.float` is a deprecated alias for the builtin `float`. To silence this warning, use `float` by itself. Doing this will not modify any behavior and is safe. If you specifically wanted the numpy scalar type, use `np.float64` here.\n",
      "Deprecated in NumPy 1.20; for more details and guidance: https://numpy.org/devdocs/release/1.20.0-notes.html#deprecations\n",
      "  eps=np.finfo(np.float).eps, positive=False):\n",
      "c:\\users\\lenovo\\appdata\\local\\programs\\python\\python37\\lib\\site-packages\\sklearn\\linear_model\\least_angle.py:1097: DeprecationWarning: `np.float` is a deprecated alias for the builtin `float`. To silence this warning, use `float` by itself. Doing this will not modify any behavior and is safe. If you specifically wanted the numpy scalar type, use `np.float64` here.\n",
      "Deprecated in NumPy 1.20; for more details and guidance: https://numpy.org/devdocs/release/1.20.0-notes.html#deprecations\n",
      "  max_n_alphas=1000, n_jobs=None, eps=np.finfo(np.float).eps,\n",
      "c:\\users\\lenovo\\appdata\\local\\programs\\python\\python37\\lib\\site-packages\\sklearn\\linear_model\\least_angle.py:1344: DeprecationWarning: `np.float` is a deprecated alias for the builtin `float`. To silence this warning, use `float` by itself. Doing this will not modify any behavior and is safe. If you specifically wanted the numpy scalar type, use `np.float64` here.\n",
      "Deprecated in NumPy 1.20; for more details and guidance: https://numpy.org/devdocs/release/1.20.0-notes.html#deprecations\n",
      "  max_n_alphas=1000, n_jobs=None, eps=np.finfo(np.float).eps,\n",
      "c:\\users\\lenovo\\appdata\\local\\programs\\python\\python37\\lib\\site-packages\\sklearn\\linear_model\\least_angle.py:1480: DeprecationWarning: `np.float` is a deprecated alias for the builtin `float`. To silence this warning, use `float` by itself. Doing this will not modify any behavior and is safe. If you specifically wanted the numpy scalar type, use `np.float64` here.\n",
      "Deprecated in NumPy 1.20; for more details and guidance: https://numpy.org/devdocs/release/1.20.0-notes.html#deprecations\n",
      "  eps=np.finfo(np.float).eps, copy_X=True, positive=False):\n",
      "c:\\users\\lenovo\\appdata\\local\\programs\\python\\python37\\lib\\site-packages\\sklearn\\linear_model\\randomized_l1.py:152: DeprecationWarning: `np.float` is a deprecated alias for the builtin `float`. To silence this warning, use `float` by itself. Doing this will not modify any behavior and is safe. If you specifically wanted the numpy scalar type, use `np.float64` here.\n",
      "Deprecated in NumPy 1.20; for more details and guidance: https://numpy.org/devdocs/release/1.20.0-notes.html#deprecations\n",
      "  precompute=False, eps=np.finfo(np.float).eps,\n",
      "c:\\users\\lenovo\\appdata\\local\\programs\\python\\python37\\lib\\site-packages\\sklearn\\linear_model\\randomized_l1.py:320: DeprecationWarning: `np.float` is a deprecated alias for the builtin `float`. To silence this warning, use `float` by itself. Doing this will not modify any behavior and is safe. If you specifically wanted the numpy scalar type, use `np.float64` here.\n",
      "Deprecated in NumPy 1.20; for more details and guidance: https://numpy.org/devdocs/release/1.20.0-notes.html#deprecations\n",
      "  eps=np.finfo(np.float).eps, random_state=None,\n",
      "c:\\users\\lenovo\\appdata\\local\\programs\\python\\python37\\lib\\site-packages\\sklearn\\linear_model\\randomized_l1.py:580: DeprecationWarning: `np.float` is a deprecated alias for the builtin `float`. To silence this warning, use `float` by itself. Doing this will not modify any behavior and is safe. If you specifically wanted the numpy scalar type, use `np.float64` here.\n",
      "Deprecated in NumPy 1.20; for more details and guidance: https://numpy.org/devdocs/release/1.20.0-notes.html#deprecations\n",
      "  eps=4 * np.finfo(np.float).eps, n_jobs=None,\n"
     ]
    }
   ],
   "source": [
    "# Q1.Import necessary libraries\n",
    "import seaborn as sns\n",
    "import matplotlib.pyplot as plt\n",
    "import numpy as np\n",
    "import pandas as pd\n",
    "from sklearn.linear_model import LinearRegression\n",
    "data = sns.load_dataset('geyser')"
   ]
  },
  {
   "cell_type": "markdown",
   "metadata": {
    "id": "YpWASQeCuOnn"
   },
   "source": [
    "## Block 2"
   ]
  },
  {
   "cell_type": "code",
   "execution_count": 94,
   "metadata": {},
   "outputs": [],
   "source": [
    "# Q2. Build the k-fold cross validation function\n",
    "def kfold(X, y, num_folds = 10):\n",
    "    \"\"\"\n",
    "    :X: the feature matrix\n",
    "    :y: the y predicted variable\n",
    "    :num_folds: the number of folds for the k-fold algorithm\n",
    "    \"\"\"\n",
    "    # compute fold sizes\n",
    "    fold_sizes = np.full(num_folds, len(y) // num_folds, dtype=int)\n",
    "    fold_sizes[:len(y) % num_folds] += 1\n",
    "    # set iterator of the index\n",
    "    current = 0\n",
    "    # initialize the result array\n",
    "    result = []\n",
    "    for i in range(len(fold_sizes)):\n",
    "        # setting the start and stop of the index\n",
    "        start, stop = current, current + fold_sizes[i]\n",
    "        # train test split\n",
    "        X_train = pd.concat([X[:start], X[stop:]])\n",
    "        y_train = pd.concat([y[:start], y[stop:]])\n",
    "        X_test = X[start:stop]\n",
    "        y_test = y[start:stop]\n",
    "        # initialize model\n",
    "        model = LinearRegression(fit_intercept=True).fit(X_train, y_train)\n",
    "        # predict the train and test result\n",
    "        predicted_test = X_test.dot(model.coef_) + model.intercept_\n",
    "        predicted_train = X_train.dot(model.coef_) + model.intercept_\n",
    "        # compute train and test r square values\n",
    "        rsquare_training = (np.corrcoef(y_train, predicted_train)[0,1])**2\n",
    "        rsquare_testing = (np.corrcoef(y_test, predicted_test)[0,1])**2\n",
    "#         print(f\"Training R^2 value of {i + 1} fold is\", rsquare_training)\n",
    "#         print(f\"Testing R^2 value of {i + 1} fold is\", rsquare_testing)\n",
    "        result.append(rsquare_testing)\n",
    "        # refresh the iterator\n",
    "        current = stop\n",
    "    return np.array(result)"
   ]
  },
  {
   "cell_type": "markdown",
   "metadata": {},
   "source": [
    "## Block 3"
   ]
  },
  {
   "cell_type": "code",
   "execution_count": 100,
   "metadata": {},
   "outputs": [
    {
     "name": "stdout",
     "output_type": "stream",
     "text": [
      "The mean of the R^2 with k being 3 is 0.893798534013358. The standard deviation of the R^2 with k being 3 is 0.014062408011252372.\n",
      "The mean of the R^2 with k being 5 is 0.8910552566297218. The standard deviation of the R^2 with k being 5 is 0.032644695105930696.\n",
      "The mean of the R^2 with k being 10 is 0.8958054545597666. The standard deviation of the R^2 with k being 10 is 0.03430366869754971.\n",
      "The mean of the R^2 with k being 20 is 0.9024903805448228. The standard deviation of the R^2 with k being 20 is 0.0619307395844281.\n"
     ]
    }
   ],
   "source": [
    "# Q3. Print the average and standard deviation of the R^2 value for the different folds\n",
    "# for extra credit, print the parameters for the k-folds being 3,5,10,20\n",
    "ks = [3,5,10,20]\n",
    "X = data[data.columns[:2]]\n",
    "y = data[data.columns[2]]\n",
    "y = y.replace({\"long\":1, \"short\":0})\n",
    "for i in range(len(ks)):\n",
    "    result = kfold(X, y, ks[i])\n",
    "    print(f\"The mean of the R^2 with k being {ks[i]} is {result.mean()}. \"\n",
    "          f\"The standard deviation of the R^2 with k being {ks[i]} is {result.std()}.\")"
   ]
  },
  {
   "cell_type": "markdown",
   "metadata": {},
   "source": [
    "## Block 4: Interpret the result"
   ]
  },
  {
   "cell_type": "markdown",
   "metadata": {},
   "source": [
    "Utilizing the mechanism of k-folds, we are able to evaluate the accuracy of our model in a more objective and representative manner. In block 3, I test the k-fold algorithm setting k to different values, 3, 5, 10, 20. In general, as the number of folds increases, the mean and standard deviation of the R square value also increase. My assumption about this pattern is that the larger k will lead to smaller number of observations in each fold, making each fold less representative and stable. Therefore, keeping the number of folds within certain range will make the result better."
   ]
  }
 ],
 "metadata": {
  "colab": {
   "name": "Strict_guide.ipynb",
   "provenance": []
  },
  "kernelspec": {
   "display_name": "Python 3",
   "language": "python",
   "name": "python3"
  },
  "language_info": {
   "codemirror_mode": {
    "name": "ipython",
    "version": 3
   },
   "file_extension": ".py",
   "mimetype": "text/x-python",
   "name": "python",
   "nbconvert_exporter": "python",
   "pygments_lexer": "ipython3",
   "version": "3.7.4"
  }
 },
 "nbformat": 4,
 "nbformat_minor": 1
}
